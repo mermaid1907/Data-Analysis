{
 "cells": [
  {
   "cell_type": "markdown",
   "id": "ade32ff4",
   "metadata": {},
   "source": [
    "# 1.Dünya Ülkelerinin Sınıflandırma Algoritmaları ile Tahmin Edilmesi \n",
    "\n",
    "Elif Karagöz , Halit Kaan Kaçar\n",
    "\n",
    "Yeditepe Üniversitesi, Uygulamalı Bilimler Yüksekokulu, Yazılım Geliştime Bölümü, İstanbul, Türkiye, elif.karagoz@std.yeditepe.edu.tr\n",
    "\n",
    "Yeditepe Üniversitesi, Uygulamalı Bilimler Yüksekokulu, Yazılım Geliştime Bölümü, İstanbul, Türkiye, halitkaan.kacar@std.yeditepe.edu.tr"
   ]
  },
  {
   "cell_type": "markdown",
   "id": "d6f12695",
   "metadata": {},
   "source": [
    "# Öz\n",
    "    Verilen veri seti üzerinden 1. Dünya Ülkeleri tahmini yaptırılması amaçlanmıştır. Bu çalışmada öncelikli olarak “None” değerler o grubun ortalama değeri ile doldurulmuş, sonrasında veri setindeki öznitelik grupları kendi aralarında karşılaştırılıp grafiklendirilme yapılmıştır. Doğrusal Regresyon kullanılarak medyan yaşa göre doğurganlık oranı çıkarımı yaptırılmıştır. Hedef 1. Dünya Ülkeleri tahmini için veri setinin yüzde otuzu test için ayrılmış, random forest skoru hesaplatılmış ve sonrasında Karışıklık Matrisi kullanılarak verinin doğruluğu hesaplanmıştır."
   ]
  },
  {
   "cell_type": "markdown",
   "id": "9fe30dfa",
   "metadata": {},
   "source": [
    "# 1. Giriş \n",
    "\tDünya nüfusu her geçen gün katlanarak artmaktadır. En büyük nüfusa sahip ülke Çin olmakla beraber en az nüfusa sahip ülke Holy See’dir. Bu çalışmada tek tek ülkerin 2021-2022 yılları arasındandaki nüfus artışı ve dağılımı incelenmiştir. İnceleme yapılırken, seçilen ülkelerin doğurganlık oranına kıyasla medyan yaşı ve o ülkenin merkezi nüfusu gibi verilerle kıyaslama yapılmıştır. Bu bulgular doğrultusunda ülkelerin gelişmiş ülke olup olmadığının tahmin edlmesi hedeflenmiştir. "
   ]
  },
  {
   "cell_type": "markdown",
   "id": "3b51dce0",
   "metadata": {},
   "source": [
    "Aşağıdaki kod bloğunda gerekli modüller ve kütüphaneler import edilmiştir."
   ]
  },
  {
   "cell_type": "code",
   "execution_count": 49,
   "id": "1aeac447",
   "metadata": {},
   "outputs": [],
   "source": [
    "from sklearn.linear_model import LinearRegression\n",
    "from sklearn.impute import KNNImputer\n",
    "from sklearn.ensemble import RandomForestClassifier\n",
    "from sklearn.metrics import confusion_matrix\n",
    "from sklearn.model_selection import train_test_split\n",
    "from sklearn import preprocessing\n",
    "import seaborn as sns\n",
    "import matplotlib.pyplot as plt\n",
    "import pandas as pd\n",
    "import numpy as np"
   ]
  },
  {
   "cell_type": "markdown",
   "id": "e3779fac",
   "metadata": {},
   "source": [
    "Burada dataset'i hazırlamakta kullandığımız csv dosyası pandas kütüphanesi yardımıyla okunup dataset adlı değişkene atanmıştır."
   ]
  },
  {
   "cell_type": "code",
   "execution_count": 50,
   "id": "68243b65",
   "metadata": {},
   "outputs": [],
   "source": [
    "dataset = pd.read_csv(\"World_Population_2022_.csv\")"
   ]
  },
  {
   "cell_type": "markdown",
   "id": "e22afbe3",
   "metadata": {},
   "source": [
    "# 2. Materyal ve Metot\n",
    "Bu çalışmada Kaggle web sitesinden alınan 2022 dünya popülasyon artış veri seti kullanılmıştır. Veri setinde toplam 12 öznitelik ve 243 ülkeye ait popülasyon veri kayıtlarını içermektedir. Öznitelik değerleri output verileri arasında ve açıklamaları kod bloğun içinde bulunan yorum satırlarında gösterilmiştir."
   ]
  },
  {
   "cell_type": "code",
   "execution_count": 51,
   "id": "c29c4a3c",
   "metadata": {},
   "outputs": [
    {
     "name": "stdout",
     "output_type": "stream",
     "text": [
      "                #  Population (2022)  Yearly change    Net change  \\\n",
      "count  235.000000       2.350000e+02     235.000000  2.350000e+02   \n",
      "mean   118.000000       3.317120e+07       0.011043  3.461058e+05   \n",
      "std     67.982841       1.351370e+08       0.010757  1.128255e+06   \n",
      "min      1.000000       8.010000e+02      -0.024700 -3.838400e+05   \n",
      "25%     59.500000       4.188015e+05       0.003200  4.240000e+02   \n",
      "50%    118.000000       5.459642e+06       0.009700  3.917000e+04   \n",
      "75%    176.500000       2.057705e+07       0.018500  2.496600e+05   \n",
      "max    235.000000       1.439324e+09       0.038400  1.358663e+07   \n",
      "\n",
      "       Density (P/Km²)  Land Area (Km²)  Migrants (net)  Fert. Rate  \\\n",
      "count       235.000000     2.350000e+02      201.000000  201.000000   \n",
      "mean        478.408511     5.535918e+05       -5.442786    2.692040   \n",
      "std        2331.282424     1.687796e+06   123292.057588    1.264253   \n",
      "min           0.000000     0.000000e+00  -653249.000000    1.100000   \n",
      "25%          37.000000     2.545000e+03   -10047.000000    1.700000   \n",
      "50%          95.000000     7.724000e+04     -960.000000    2.300000   \n",
      "75%         240.000000     4.038200e+05     9741.000000    3.600000   \n",
      "max       26337.000000     1.637687e+07   954806.000000    7.000000   \n",
      "\n",
      "          Med.Age  Urban Pop %  World Share  \n",
      "count  201.000000   222.000000   235.000000  \n",
      "mean    30.621891     0.594459     0.425489  \n",
      "std      9.119557     0.240998     1.733713  \n",
      "min     15.000000     0.000000     0.000000  \n",
      "25%     22.000000     0.430000     0.010000  \n",
      "50%     30.000000     0.615000     0.070000  \n",
      "75%     39.000000     0.790000     0.265000  \n",
      "max     48.000000     1.000000    18.470000  \n",
      "#                            int64\n",
      "Country (or dependency)     object\n",
      "Population (2022)            int64\n",
      "Yearly change              float64\n",
      "Net change                   int64\n",
      "Density (P/Km²)              int64\n",
      "Land Area (Km²)              int64\n",
      "Migrants (net)             float64\n",
      "Fert. Rate                 float64\n",
      "Med.Age                    float64\n",
      "Urban Pop %                float64\n",
      "World Share                float64\n",
      "dtype: object\n"
     ]
    }
   ],
   "source": [
    "#Columns: \n",
    "#[#, Country (or dependency), Population (2022), Yearly change, \n",
    "#Net change, Density (P/Km²), Land Area (Km²), Migrants (net), Fert. Rate, \n",
    "#Med.Age, Urban Pop %, World Share]\n",
    "\n",
    "country_list = []\n",
    "population_list = []\n",
    "yearly_change_list = []\n",
    "net_change_list = []\n",
    "density_list = []\n",
    "land_area_list = []\n",
    "migrants_list = []\n",
    "fertility_list = []\n",
    "med_age_list = []\n",
    "urb_pop_list = []\n",
    "share_pop_list = []\n",
    "\n",
    "for _, country, population, yearly_change, net_change, density, land_area, migrants, fertility, med_age, urb_pop, share_pop in dataset.values:\n",
    "    country_list.append(str(country))\n",
    "    population_list.append(int(population.replace(\",\", \"\")))\n",
    "    yearly_change_list.append(float(yearly_change.replace(\"%\", \"\")) / 100)\n",
    "    net_change_list.append(int(net_change.replace(\",\", \"\")))\n",
    "    density_list.append(int(density.replace(\",\", \"\")))\n",
    "    land_area_list.append(int(land_area.replace(\",\", \"\")))\n",
    "    migrants_list.append(None if str(migrants) == \"nan\" else int(str(migrants).replace(\",\", \"\")))\n",
    "    fertility_list.append(None if fertility == \"N.A.\" else float(fertility))\n",
    "    med_age_list.append(None if med_age == \"N.A.\" else int(med_age))\n",
    "    urb_pop_list.append(None if urb_pop == \"N.A.\" else float(urb_pop.replace(\"%\", \"\")) / 100)\n",
    "    share_pop_list.append(float(share_pop.replace(\"%\", \"\")))\n",
    "    \n",
    "   \n",
    "dataset[\"Country (or dependency)\"] = country_list #Ülke isimleri\n",
    "dataset[\"Population (2022)\"] = population_list #Popülasyon\n",
    "dataset[\"Yearly change\"] = yearly_change_list #Yıllık değişim oranı\n",
    "dataset[\"Net change\"] = net_change_list #Net yıllık değişim\n",
    "dataset[\"Density (P/Km²)\"] = density_list #Kilometre başına düşen kişi sayısı\n",
    "dataset[\"Land Area (Km²)\"] = land_area_list #Ülkenin kağladığı alan km2\n",
    "dataset[\"Migrants (net)\"] = migrants_list #Net göç alma + net göç verme -\n",
    "dataset[\"Fert. Rate\"] = fertility_list #Doğum oranı\n",
    "dataset[\"Med.Age\"] = med_age_list #Ortanca yaş\n",
    "dataset[\"Urban Pop %\"] = urb_pop_list #Şehir dışı popülasyon\n",
    "dataset[\"World Share\"] = share_pop_list #Dünya'da paylaşılan popülasyon\n",
    "\n",
    "print(dataset.describe())\n",
    "print(dataset.dtypes)"
   ]
  },
  {
   "cell_type": "markdown",
   "id": "676c945a",
   "metadata": {},
   "source": [
    "# GRAPHS "
   ]
  },
  {
   "cell_type": "markdown",
   "id": "775d6b70",
   "metadata": {},
   "source": [
    "### PIE CHARTS "
   ]
  },
  {
   "cell_type": "markdown",
   "id": "3e91720c",
   "metadata": {},
   "source": [
    "Top Ten Population Sharing Countries"
   ]
  },
  {
   "cell_type": "code",
   "execution_count": 52,
   "id": "94a6d28e",
   "metadata": {},
   "outputs": [
    {
     "data": {
      "image/png": "[encoded data removed]",
      "text/plain": [
       "<Figure size 432x288 with 1 Axes>"
      ]
     },
     "metadata": {},
     "output_type": "display_data"
    }
   ],
   "source": [
    "dataset = dataset.sort_values(\"World Share\", ascending=False)\n",
    "plt.pie(dataset[\"World Share\"].head(10), labels = dataset[\"Country (or dependency)\"].head(10))\n",
    "plt.title(\"Top Ten Population Sharing Countries\")\n",
    "plt.show()\n",
    "plt.close()"
   ]
  },
  {
   "cell_type": "markdown",
   "id": "f02dac4d",
   "metadata": {},
   "source": [
    "Top Ten Land Area Sharing Countries"
   ]
  },
  {
   "cell_type": "code",
   "execution_count": 53,
   "id": "c77bf413",
   "metadata": {},
   "outputs": [
    {
     "data": {
      "image/png": "[encoded data removed]",
      "text/plain": [
       "<Figure size 432x288 with 1 Axes>"
      ]
     },
     "metadata": {},
     "output_type": "display_data"
    }
   ],
   "source": [
    "dataset = dataset.sort_values(\"Land Area (Km²)\", ascending=False)\n",
    "plt.pie(dataset[\"Land Area (Km²)\"].head(10), labels = dataset[\"Country (or dependency)\"].head(10))\n",
    "plt.title(\"Top Ten Land Area Sharing Countries\")\n",
    "plt.show()\n",
    "plt.close()"
   ]
  },
  {
   "cell_type": "markdown",
   "id": "1ea319a4",
   "metadata": {},
   "source": [
    "Top Ten Density (Population/Land Area) Countries"
   ]
  },
  {
   "cell_type": "code",
   "execution_count": 54,
   "id": "3db635a9",
   "metadata": {},
   "outputs": [
    {
     "data": {
      "image/png": "[encoded data removed]",
      "text/plain": [
       "<Figure size 432x288 with 1 Axes>"
      ]
     },
     "metadata": {},
     "output_type": "display_data"
    }
   ],
   "source": [
    "dataset = dataset.sort_values(\"Density (P/Km²)\", ascending=False)\n",
    "plt.pie(dataset[\"Density (P/Km²)\"].head(10), labels = dataset[\"Country (or dependency)\"].head(10))\n",
    "plt.title(\"Top Ten Density (Population/Land Area) Countries\")\n",
    "plt.show()\n",
    "plt.close()"
   ]
  },
  {
   "cell_type": "markdown",
   "id": "c7c2fdf8",
   "metadata": {},
   "source": [
    "### SCATTER GRAPHS"
   ]
  },
  {
   "cell_type": "markdown",
   "id": "ba0b2fbf",
   "metadata": {},
   "source": [
    "Connection Between Fertility Rate and Urban Population"
   ]
  },
  {
   "cell_type": "code",
   "execution_count": 55,
   "id": "a526d74e",
   "metadata": {},
   "outputs": [
    {
     "data": {
      "image/png": "[encoded data removed]",
      "text/plain": [
       "<Figure size 432x288 with 1 Axes>"
      ]
     },
     "metadata": {
      "needs_background": "light"
     },
     "output_type": "display_data"
    }
   ],
   "source": [
    "plt.scatter(dataset[\"Urban Pop %\"], dataset[\"Fert. Rate\"], color=\"pink\")\n",
    "plt.title(\"Connection Between Fertility Rate and Urban Population\")\n",
    "plt.xlabel(\"Urban Pop %\")\n",
    "plt.ylabel(\"Fert. Rate\")\n",
    "plt.show()\n",
    "plt.close()"
   ]
  },
  {
   "cell_type": "markdown",
   "id": "c4ab3647",
   "metadata": {},
   "source": [
    "Connection Between Fertility Rate and Medium Age"
   ]
  },
  {
   "cell_type": "code",
   "execution_count": 56,
   "id": "792c85b1",
   "metadata": {},
   "outputs": [
    {
     "data": {
      "image/png": "[encoded data removed]",
      "text/plain": [
       "<Figure size 432x288 with 1 Axes>"
      ]
     },
     "metadata": {
      "needs_background": "light"
     },
     "output_type": "display_data"
    }
   ],
   "source": [
    "plt.scatter(dataset[\"Med.Age\"], dataset[\"Fert. Rate\"], color=\"red\")\n",
    "plt.title(\"Connection Between Fertility Rate and Medium Age\")\n",
    "plt.xlabel(\"Med.Age\")\n",
    "plt.ylabel(\"Fert. Rate\")\n",
    "plt.show()\n",
    "plt.close()"
   ]
  },
  {
   "cell_type": "markdown",
   "id": "29d982d0",
   "metadata": {},
   "source": [
    "Change of Population from Density(People/Km2)"
   ]
  },
  {
   "cell_type": "code",
   "execution_count": 57,
   "id": "3526cad0",
   "metadata": {},
   "outputs": [
    {
     "data": {
      "image/png": "[encoded data removed]",
      "text/plain": [
       "<Figure size 432x288 with 1 Axes>"
      ]
     },
     "metadata": {
      "needs_background": "light"
     },
     "output_type": "display_data"
    }
   ],
   "source": [
    "plt.scatter(dataset[\"Density (P/Km²)\"], dataset[\"Yearly change\"])\n",
    "plt.title(\"Change of Population from Density(People/Km2)\")\n",
    "plt.xlabel(\"Density (P/Km²)\")\n",
    "plt.ylabel(\"Yearly change\")\n",
    "plt.show()\n",
    "plt.close()"
   ]
  },
  {
   "cell_type": "markdown",
   "id": "4cdfbe3c",
   "metadata": {},
   "source": [
    "Connection Between Fertility Rate and Yearly Change"
   ]
  },
  {
   "cell_type": "code",
   "execution_count": 58,
   "id": "91759c76",
   "metadata": {},
   "outputs": [
    {
     "data": {
      "image/png": "[encoded data removed]",
      "text/plain": [
       "<Figure size 432x288 with 1 Axes>"
      ]
     },
     "metadata": {
      "needs_background": "light"
     },
     "output_type": "display_data"
    }
   ],
   "source": [
    "plt.scatter(dataset[\"Yearly change\"], dataset[\"Fert. Rate\"])\n",
    "plt.title(\"Connection Between Fertility Rate and Yearly Change\")\n",
    "plt.xlabel(\"Med.Age\")\n",
    "plt.ylabel(\"Fert. Rate\")\n",
    "plt.show()\n",
    "plt.close()"
   ]
  },
  {
   "cell_type": "markdown",
   "id": "aea7fa08",
   "metadata": {},
   "source": [
    "# 2.1. Öznitelik Seçimi\n",
    "    Çalışmada öznitelik değerleri seçilirken öznitelikler arası bağlantı incelenmiş ve buna göre mantıksal bağlantısı en fazla olan alanlar kendi aralarında ikişerli olmak üzere karşılaştırılmış ve tahmin fonksiyonuna tabi tutulmuştur. \n",
    "    Linear regresyon algoritmasından yararlanılarak iki alan arası ilişki incelenip tahmin doğrusu oluşturulmuştur. Lineer (Doğrusal) regresyon istatistiksel veri analizinde doğrusal ve sürekli değişkenler için sıkça kullanılan, bir yöntemdir. Tek bir bağımsız değişken olduğunda regresyon modeline Basit Doğrusal Regresyon, birden fazla bağımsız değişken olduğunda ise Çoklu Doğrusal Regresyon Modeli denir. Çalışmamızda medyan yaş ile doğurganlık oranını modellemek için Basit Doğrusal Regresyon modeli kullanılmıştır."
   ]
  },
  {
   "cell_type": "markdown",
   "id": "cb3aa2e2",
   "metadata": {},
   "source": [
    "# 2.2. Sınıflandırma Algoritmaları\n",
    "    1.Dünya Ülkelerinin tahmini için gerçekleştirilen bu çalışmada NaN değerlerinin doldurulması aşamasında K-En Yakın Komşu (KNN, K-nearest neighborhood), medyan yaş ve doğurganlık oranı arasındaki bağıntıyı gözlemleyip tahmin modeli oluşturmak adına Linear Regresyon sınıflandırma algoritmaları kullanılmıştır. "
   ]
  },
  {
   "cell_type": "markdown",
   "id": "266f568d",
   "metadata": {},
   "source": [
    "# NaN's"
   ]
  },
  {
   "cell_type": "markdown",
   "id": "3c440854",
   "metadata": {},
   "source": [
    "### 2.2.1 K-En Yakın Komşu (KNN)\n",
    "    En Yakın Komşu Algoritması (K-Nearest Neighbours – KNN); sınıflandırma işleminde bulunulacak örnek veri noktasının bulunduğu sınıfın (öğrenim kümesi) ve en yakın komşunun (elemanın), k değerine (benzerliğe) göre belirlendiği bir denetimli/gözetimli makine öğrenme yöntemi olarak ifade edilmektedir. Algoritmaya yönelik uzaklık hesaplaması tipleri Euclidean, Manhattan, Chebyshev, Hamming, Minkowski ve dahası olmak üzere çok çeşitlidir. "
   ]
  },
  {
   "cell_type": "code",
   "execution_count": 59,
   "id": "9f8861df",
   "metadata": {},
   "outputs": [
    {
     "name": "stdout",
     "output_type": "stream",
     "text": [
      "The rows that contain NaN's\n",
      "#                           0\n",
      "Country (or dependency)     0\n",
      "Population (2022)           0\n",
      "Yearly change               0\n",
      "Net change                  0\n",
      "Density (P/Km²)             0\n",
      "Land Area (Km²)             0\n",
      "Migrants (net)             34\n",
      "Fert. Rate                 34\n",
      "Med.Age                    34\n",
      "Urban Pop %                13\n",
      "World Share                 0\n",
      "dtype: int64\n"
     ]
    }
   ],
   "source": [
    "print(\"The rows that contain NaN's\")\n",
    "empty_rows = dataset.isna().sum()\n",
    "print(empty_rows)\n",
    "#fertility rate: 34 migrants: 34 med.age: 34 urban pop:13"
   ]
  },
  {
   "cell_type": "markdown",
   "id": "52b97141",
   "metadata": {},
   "source": [
    "### Using KNN algorithm to fill the NaN's"
   ]
  },
  {
   "cell_type": "code",
   "execution_count": 60,
   "id": "801b7102",
   "metadata": {},
   "outputs": [],
   "source": [
    "#imputer = KNNImputer(missing_values=None, strategy=\"mean\")\n",
    "#knn = imputer.fit_transform(dataset[\"Yearly change\"].values.reshape(-1,1), dataset[\"Fert. Rate\"])"
   ]
  },
  {
   "cell_type": "markdown",
   "id": "526684fd",
   "metadata": {},
   "source": [
    "### Using fillna() to replace all the None values with the mean of that column"
   ]
  },
  {
   "cell_type": "code",
   "execution_count": 61,
   "id": "050d11fe",
   "metadata": {},
   "outputs": [],
   "source": [
    "dataset['Migrants (net)'].fillna(dataset['Migrants (net)'].mean(), inplace=True)\n",
    "dataset['Fert. Rate'].fillna(dataset['Fert. Rate'].mean(), inplace=True)\n",
    "dataset['Med.Age'].fillna(dataset['Med.Age'].mean(), inplace=True)\n",
    "dataset['Urban Pop %'].fillna(dataset['Urban Pop %'].mean(), inplace=True)"
   ]
  },
  {
   "cell_type": "markdown",
   "id": "21ec675d",
   "metadata": {},
   "source": [
    "# LINEAR REGRESION"
   ]
  },
  {
   "cell_type": "markdown",
   "id": "a4c325a4",
   "metadata": {},
   "source": [
    "### 2.2.2 Linear Regresyon\n",
    "    Doğrusal regresyon analizi, bir değişkenin değerini başka bir değişkenin değerine göre tahmin etmek için kullanılır. Tahmin etmek istediğiniz değişken, bağımlı değişken olarak adlandırılır. Diğer değişkenin değerini tahmin etmek için kullandığınız değişken ise bağımsız değişken olarak adlandırılır. \n",
    "    Bu analiz biçimi, bağımlı değişkenin değerini en iyi öngören bir ya da daha fazla bağımsız değişkeni kullanarak doğrusal denklemin katsayılarını tahmin eder. Doğrusal regresyon, öngörülen ve gerçek çıkış değerleri arasındaki uyumsuzlukları en aza indiren düz bir çizgi ya da yüzeye yerleşir. Bir çift eşleştirilmiş veri kümesi için en uygun satırı keşfetmek üzere \"en küçük kareler\" yöntemini kullanan basit doğrusal regresyon hesaplayıcılar vardır. Daha sonra, Y'den (bağımsız değişken) X'in (bağımlı değişken) değeri tahmin edilir. "
   ]
  },
  {
   "cell_type": "code",
   "execution_count": 62,
   "id": "a57916d0",
   "metadata": {},
   "outputs": [
    {
     "name": "stdout",
     "output_type": "stream",
     "text": [
      "model intercept:  47.75691624002071\n",
      "model coef:  [-6.36507145]\n"
     ]
    }
   ],
   "source": [
    "lr = LinearRegression()\n",
    "model = lr.fit(dataset[\"Fert. Rate\"].values.reshape(-1, 1), dataset[\"Med.Age\"] )\n",
    "print(\"model intercept: \" , model.intercept_) #y-intercept (regression constant)\n",
    "print(\"model coef: \" , model.coef_) #regression coefficient, slope"
   ]
  },
  {
   "cell_type": "markdown",
   "id": "46abd874",
   "metadata": {},
   "source": [
    "### Making prediction"
   ]
  },
  {
   "cell_type": "code",
   "execution_count": 63,
   "id": "25259d6f",
   "metadata": {},
   "outputs": [],
   "source": [
    "y_pred = model.predict(dataset[\"Fert. Rate\"].values.reshape(-1,1))\n",
    "#y_pred = 90*model.coef_ + model.intercept_\n"
   ]
  },
  {
   "cell_type": "markdown",
   "id": "187386fd",
   "metadata": {},
   "source": [
    "### R squared -coefficient of determination"
   ]
  },
  {
   "cell_type": "code",
   "execution_count": 64,
   "id": "410b1d63",
   "metadata": {},
   "outputs": [
    {
     "name": "stdout",
     "output_type": "stream",
     "text": [
      "0.7786230534318822\n"
     ]
    },
    {
     "data": {
      "text/html": [
       "<div>\n",
       "<style scoped>\n",
       "    .dataframe tbody tr th:only-of-type {\n",
       "        vertical-align: middle;\n",
       "    }\n",
       "\n",
       "    .dataframe tbody tr th {\n",
       "        vertical-align: top;\n",
       "    }\n",
       "\n",
       "    .dataframe thead th {\n",
       "        text-align: right;\n",
       "    }\n",
       "</style>\n",
       "<table border=\"1\" class=\"dataframe\">\n",
       "  <thead>\n",
       "    <tr style=\"text-align: right;\">\n",
       "      <th></th>\n",
       "      <th>#</th>\n",
       "      <th>Population (2022)</th>\n",
       "      <th>Yearly change</th>\n",
       "      <th>Net change</th>\n",
       "      <th>Density (P/Km²)</th>\n",
       "      <th>Land Area (Km²)</th>\n",
       "      <th>Migrants (net)</th>\n",
       "      <th>Fert. Rate</th>\n",
       "      <th>Med.Age</th>\n",
       "      <th>Urban Pop %</th>\n",
       "      <th>World Share</th>\n",
       "    </tr>\n",
       "  </thead>\n",
       "  <tbody>\n",
       "    <tr>\n",
       "      <th>#</th>\n",
       "      <td>1.000000</td>\n",
       "      <td>-0.353939</td>\n",
       "      <td>-0.237580</td>\n",
       "      <td>-0.420718</td>\n",
       "      <td>0.126631</td>\n",
       "      <td>-0.391029</td>\n",
       "      <td>-0.020126</td>\n",
       "      <td>-0.107829</td>\n",
       "      <td>0.085781</td>\n",
       "      <td>0.001565</td>\n",
       "      <td>-0.354029</td>\n",
       "    </tr>\n",
       "    <tr>\n",
       "      <th>Population (2022)</th>\n",
       "      <td>-0.353939</td>\n",
       "      <td>1.000000</td>\n",
       "      <td>-0.009714</td>\n",
       "      <td>0.851950</td>\n",
       "      <td>-0.025694</td>\n",
       "      <td>0.455600</td>\n",
       "      <td>-0.265736</td>\n",
       "      <td>-0.048713</td>\n",
       "      <td>0.018660</td>\n",
       "      <td>-0.036958</td>\n",
       "      <td>0.999999</td>\n",
       "    </tr>\n",
       "    <tr>\n",
       "      <th>Yearly change</th>\n",
       "      <td>-0.237580</td>\n",
       "      <td>-0.009714</td>\n",
       "      <td>1.000000</td>\n",
       "      <td>0.190156</td>\n",
       "      <td>-0.027043</td>\n",
       "      <td>0.009176</td>\n",
       "      <td>-0.015142</td>\n",
       "      <td>0.772910</td>\n",
       "      <td>-0.791163</td>\n",
       "      <td>-0.265539</td>\n",
       "      <td>-0.009679</td>\n",
       "    </tr>\n",
       "    <tr>\n",
       "      <th>Net change</th>\n",
       "      <td>-0.420718</td>\n",
       "      <td>0.851950</td>\n",
       "      <td>0.190156</td>\n",
       "      <td>1.000000</td>\n",
       "      <td>-0.034149</td>\n",
       "      <td>0.305664</td>\n",
       "      <td>-0.299735</td>\n",
       "      <td>0.165141</td>\n",
       "      <td>-0.191191</td>\n",
       "      <td>-0.146769</td>\n",
       "      <td>0.851806</td>\n",
       "    </tr>\n",
       "    <tr>\n",
       "      <th>Density (P/Km²)</th>\n",
       "      <td>0.126631</td>\n",
       "      <td>-0.025694</td>\n",
       "      <td>-0.027043</td>\n",
       "      <td>-0.034149</td>\n",
       "      <td>1.000000</td>\n",
       "      <td>-0.059138</td>\n",
       "      <td>0.000083</td>\n",
       "      <td>-0.102963</td>\n",
       "      <td>0.095707</td>\n",
       "      <td>0.004667</td>\n",
       "      <td>-0.025587</td>\n",
       "    </tr>\n",
       "    <tr>\n",
       "      <th>Land Area (Km²)</th>\n",
       "      <td>-0.391029</td>\n",
       "      <td>0.455600</td>\n",
       "      <td>0.009176</td>\n",
       "      <td>0.305664</td>\n",
       "      <td>-0.059138</td>\n",
       "      <td>1.000000</td>\n",
       "      <td>0.223445</td>\n",
       "      <td>-0.045018</td>\n",
       "      <td>0.061786</td>\n",
       "      <td>0.113302</td>\n",
       "      <td>0.455620</td>\n",
       "    </tr>\n",
       "    <tr>\n",
       "      <th>Migrants (net)</th>\n",
       "      <td>-0.020126</td>\n",
       "      <td>-0.265736</td>\n",
       "      <td>-0.015142</td>\n",
       "      <td>-0.299735</td>\n",
       "      <td>0.000083</td>\n",
       "      <td>0.223445</td>\n",
       "      <td>1.000000</td>\n",
       "      <td>-0.113283</td>\n",
       "      <td>0.190539</td>\n",
       "      <td>0.216079</td>\n",
       "      <td>-0.265520</td>\n",
       "    </tr>\n",
       "    <tr>\n",
       "      <th>Fert. Rate</th>\n",
       "      <td>-0.107829</td>\n",
       "      <td>-0.048713</td>\n",
       "      <td>0.772910</td>\n",
       "      <td>0.165141</td>\n",
       "      <td>-0.102963</td>\n",
       "      <td>-0.045018</td>\n",
       "      <td>-0.113283</td>\n",
       "      <td>1.000000</td>\n",
       "      <td>-0.882396</td>\n",
       "      <td>-0.412249</td>\n",
       "      <td>-0.048852</td>\n",
       "    </tr>\n",
       "    <tr>\n",
       "      <th>Med.Age</th>\n",
       "      <td>0.085781</td>\n",
       "      <td>0.018660</td>\n",
       "      <td>-0.791163</td>\n",
       "      <td>-0.191191</td>\n",
       "      <td>0.095707</td>\n",
       "      <td>0.061786</td>\n",
       "      <td>0.190539</td>\n",
       "      <td>-0.882396</td>\n",
       "      <td>1.000000</td>\n",
       "      <td>0.448453</td>\n",
       "      <td>0.018754</td>\n",
       "    </tr>\n",
       "    <tr>\n",
       "      <th>Urban Pop %</th>\n",
       "      <td>0.001565</td>\n",
       "      <td>-0.036958</td>\n",
       "      <td>-0.265539</td>\n",
       "      <td>-0.146769</td>\n",
       "      <td>0.004667</td>\n",
       "      <td>0.113302</td>\n",
       "      <td>0.216079</td>\n",
       "      <td>-0.412249</td>\n",
       "      <td>0.448453</td>\n",
       "      <td>1.000000</td>\n",
       "      <td>-0.036805</td>\n",
       "    </tr>\n",
       "    <tr>\n",
       "      <th>World Share</th>\n",
       "      <td>-0.354029</td>\n",
       "      <td>0.999999</td>\n",
       "      <td>-0.009679</td>\n",
       "      <td>0.851806</td>\n",
       "      <td>-0.025587</td>\n",
       "      <td>0.455620</td>\n",
       "      <td>-0.265520</td>\n",
       "      <td>-0.048852</td>\n",
       "      <td>0.018754</td>\n",
       "      <td>-0.036805</td>\n",
       "      <td>1.000000</td>\n",
       "    </tr>\n",
       "  </tbody>\n",
       "</table>\n",
       "</div>"
      ],
      "text/plain": [
       "                          #  Population (2022)  Yearly change  Net change  \\\n",
       "#                  1.000000          -0.353939      -0.237580   -0.420718   \n",
       "Population (2022) -0.353939           1.000000      -0.009714    0.851950   \n",
       "Yearly change     -0.237580          -0.009714       1.000000    0.190156   \n",
       "Net change        -0.420718           0.851950       0.190156    1.000000   \n",
       "Density (P/Km²)    0.126631          -0.025694      -0.027043   -0.034149   \n",
       "Land Area (Km²)   -0.391029           0.455600       0.009176    0.305664   \n",
       "Migrants (net)    -0.020126          -0.265736      -0.015142   -0.299735   \n",
       "Fert. Rate        -0.107829          -0.048713       0.772910    0.165141   \n",
       "Med.Age            0.085781           0.018660      -0.791163   -0.191191   \n",
       "Urban Pop %        0.001565          -0.036958      -0.265539   -0.146769   \n",
       "World Share       -0.354029           0.999999      -0.009679    0.851806   \n",
       "\n",
       "                   Density (P/Km²)  Land Area (Km²)  Migrants (net)  \\\n",
       "#                         0.126631        -0.391029       -0.020126   \n",
       "Population (2022)        -0.025694         0.455600       -0.265736   \n",
       "Yearly change            -0.027043         0.009176       -0.015142   \n",
       "Net change               -0.034149         0.305664       -0.299735   \n",
       "Density (P/Km²)           1.000000        -0.059138        0.000083   \n",
       "Land Area (Km²)          -0.059138         1.000000        0.223445   \n",
       "Migrants (net)            0.000083         0.223445        1.000000   \n",
       "Fert. Rate               -0.102963        -0.045018       -0.113283   \n",
       "Med.Age                   0.095707         0.061786        0.190539   \n",
       "Urban Pop %               0.004667         0.113302        0.216079   \n",
       "World Share              -0.025587         0.455620       -0.265520   \n",
       "\n",
       "                   Fert. Rate   Med.Age  Urban Pop %  World Share  \n",
       "#                   -0.107829  0.085781     0.001565    -0.354029  \n",
       "Population (2022)   -0.048713  0.018660    -0.036958     0.999999  \n",
       "Yearly change        0.772910 -0.791163    -0.265539    -0.009679  \n",
       "Net change           0.165141 -0.191191    -0.146769     0.851806  \n",
       "Density (P/Km²)     -0.102963  0.095707     0.004667    -0.025587  \n",
       "Land Area (Km²)     -0.045018  0.061786     0.113302     0.455620  \n",
       "Migrants (net)      -0.113283  0.190539     0.216079    -0.265520  \n",
       "Fert. Rate           1.000000 -0.882396    -0.412249    -0.048852  \n",
       "Med.Age             -0.882396  1.000000     0.448453     0.018754  \n",
       "Urban Pop %         -0.412249  0.448453     1.000000    -0.036805  \n",
       "World Share         -0.048852  0.018754    -0.036805     1.000000  "
      ]
     },
     "execution_count": 64,
     "metadata": {},
     "output_type": "execute_result"
    }
   ],
   "source": [
    "print(model.score(dataset[\"Fert. Rate\"].values.reshape(-1, 1), dataset[\"Med.Age\"]))\n",
    "# %77 of the variation in fertility rate is explained by its medium age\n",
    "dataset.corr()#numeric_only=True)"
   ]
  },
  {
   "cell_type": "markdown",
   "id": "39e22ed6",
   "metadata": {},
   "source": [
    "### Visualization"
   ]
  },
  {
   "cell_type": "code",
   "execution_count": 65,
   "id": "33eb4288",
   "metadata": {},
   "outputs": [
    {
     "data": {
      "image/png": "[encoded data removed]",
      "text/plain": [
       "<Figure size 432x288 with 1 Axes>"
      ]
     },
     "metadata": {
      "needs_background": "light"
     },
     "output_type": "display_data"
    }
   ],
   "source": [
    "plt.plot(dataset[\"Fert. Rate\"], dataset[\"Med.Age\"], \"o\", color=\"green\")\n",
    "plt.plot(dataset[\"Fert. Rate\"], y_pred, color=\"orange\")\n",
    "plt.title(\"Fertilitiy Rate by Medium Age\")\n",
    "plt.xlabel(\"Fertility Rate\")\n",
    "plt.ylabel(\"Medium Age\")\n",
    "plt.show()\n",
    "plt.close()"
   ]
  },
  {
   "cell_type": "markdown",
   "id": "ef96e399",
   "metadata": {},
   "source": [
    "# MIN MAX SCALER"
   ]
  },
  {
   "cell_type": "code",
   "execution_count": 66,
   "id": "01a7b215",
   "metadata": {},
   "outputs": [],
   "source": [
    "min_max_scaler = preprocessing.MinMaxScaler()\n",
    "\n",
    "dataset[\"Fert. Rate\"] = pd.DataFrame(min_max_scaler.fit_transform(pd.DataFrame(dataset[\"Fert. Rate\"])))\n",
    "\n",
    "first_country_list=[]\n",
    "for _,_,_,_,_,_,_,_,fertility,_,urbpop,_ in dataset.values:\n",
    "    \n",
    "    first_country_list.append(True if urbpop > 0.7 and fertility < 0.4 else False)\n",
    "\n",
    "dataset[\"First Country\"] = first_country_list"
   ]
  },
  {
   "cell_type": "markdown",
   "id": "c8296083",
   "metadata": {},
   "source": [
    "# 2.3. Değerlendirme Kriterleri\n",
    "    Eğitim veri seti ile sınıflandırma modelleri oluşturulduktan sonra test verisi kullanılarak sınıflandırıcıların performansları test edilmektedir. Sınıflandırıcıların performanslarının test edilebilmesi için çeşitli değerlendirme kriterleri hesaplanmaktadır. Bu çalışmada değerlendirme kriterlerinin hesaplanması için karmaşıklık matrisinden yararlanılmıştır. Karmaşıklık Matrisi \"Visualising Confusion Matrix\" başlığı altında verilmiştir.  \n",
    "    Gerçek Pozitif (GP), gerçek sınıfı pozitif olan bir örneğin doğru sınıflandırıldığı durumları göstermektedir.\n",
    "    Yanlış Negatif (YN), gerçek sınıfı pozitif olan bir örneğin yanlış sınıflandırıldığı durumları göstermektedir.\n",
    "    Yanlış Pozitif (YP), gerçek sınıfı negatif olan bir örneğin yanlış sınıflanırıldığı durumları göstermektedir.\n",
    "    Gerçek negatif (GN), gerçek sınıfı negatif olan bir örneğin doğru sınıflandırıldığı durumları göstermektedir.\n",
    "    Karmaşıklık matrisinin hücrelerindeki değerler kullanılarak doğru sınıflandırma oranı, kesinlik, duyarlılık, F ölçütü ve Kappa istatistiği değerlendirme ölçütleri hesaplanabilmektedir.\n",
    "    Doğru sınıflandırma oranı, doğru sınıflandırılan örneklerin tüm örneklere oranı ile bulunmaktadır. Formülasyonu aşağıdaki eşitlikte verilmiştir.\n",
    "    Doğru Sınıflandırma Oranı=(GP+GN)/(GP+YN+YP+GN) \n",
    "    Kesinlik, pozitif olan ve doğru tahmin edilen örneklerin pozitif olarak tahmin edilen örneklerin toplamına oranıdır. Eşitlik (4)’teki gibi hesaplanmaktadır.\n",
    "    Kesinlik=GP/(GP+YP)\n",
    "    Duyarlılık, pozitif olan ve doğru tahmin edilen örneklerin pozitif örneklerin toplamına oranıdır.\n",
    "    Duyarlılık=GP/GP+YN\n",
    "    F ölçütü keskinlik ve duyarlılık değerlerinin harmonik ortalaması alınarak hesaplanmaktadır. F ölçütünün hespalanmasına ilişkin formül aşağıda verilmiştir.\n",
    "\tF ölçütü=(2 x Duyarlılık x Keskinlik)/(1-Beklenen Doğruluk)"
   ]
  },
  {
   "cell_type": "markdown",
   "id": "b83f16e7",
   "metadata": {},
   "source": [
    "# CONFUSION MATRIX"
   ]
  },
  {
   "cell_type": "markdown",
   "id": "ccc674da",
   "metadata": {},
   "source": [
    "### Normalization"
   ]
  },
  {
   "cell_type": "code",
   "execution_count": 67,
   "id": "6dafbab0",
   "metadata": {},
   "outputs": [
    {
     "name": "stdout",
     "output_type": "stream",
     "text": [
      "       #  Population (2022)  Yearly change  Net change  Density (P/Km²)  \\\n",
      "213  214              39242         0.0071         278            26337   \n",
      "166  167             649335         0.0139        8890            21645   \n",
      "113  114            5850342         0.0079       46005             8358   \n",
      "103  104            7496981         0.0082       60827             7140   \n",
      "218  219              33691        -0.0003         -10             3369   \n",
      "..   ...                ...            ...         ...              ...   \n",
      "180  181             341243         0.0065        2212                3   \n",
      "169  170             597339         0.0255       14876                2   \n",
      "135  136            3278290         0.0165       53123                2   \n",
      "208  209              56770         0.0017          98                0   \n",
      "231  232               3480         0.0305         103                0   \n",
      "\n",
      "     Land Area (Km²)  Migrants (net)  Fert. Rate    Med.Age  Urban Pop %  \\\n",
      "213                1       -5.442786    0.288136  30.621891     0.594459   \n",
      "166               30     5000.000000    0.118644  39.000000     0.594459   \n",
      "113              700    27028.000000    0.067797  42.000000     0.594459   \n",
      "103             1050    29308.000000    0.169492  45.000000     0.594459   \n",
      "218               10       -5.442786    0.627119  30.621891     0.594459   \n",
      "..               ...             ...         ...        ...          ...   \n",
      "180           100250      380.000000    0.271186  37.000000     0.940000   \n",
      "169           266000     5582.000000    0.288136  28.000000     0.870000   \n",
      "135          1553560     -852.000000    0.186441  28.000000     0.670000   \n",
      "208           410450       -5.442786    0.576271  30.621891     0.870000   \n",
      "231            12170       -5.442786    0.220339  30.621891     0.660000   \n",
      "\n",
      "     World Share  \n",
      "213         0.00  \n",
      "166         0.01  \n",
      "113         0.08  \n",
      "103         0.10  \n",
      "218         0.00  \n",
      "..           ...  \n",
      "180         0.00  \n",
      "169         0.01  \n",
      "135         0.04  \n",
      "208         0.00  \n",
      "231         0.00  \n",
      "\n",
      "[235 rows x 11 columns]\n"
     ]
    }
   ],
   "source": [
    "y = dataset[\"First Country\"]\n",
    "x_data = dataset.drop([\"Country (or dependency)\", \"First Country\"], axis=1)\n",
    "print(x_data)\n",
    "x= (x_data-np.min(x_data))/(np.max(x_data) - np.min(x_data))\n",
    "\n"
   ]
  },
  {
   "cell_type": "markdown",
   "id": "2ab3f77e",
   "metadata": {},
   "source": [
    "### Train Test Split"
   ]
  },
  {
   "cell_type": "code",
   "execution_count": 68,
   "id": "5258b8d5",
   "metadata": {},
   "outputs": [
    {
     "name": "stdout",
     "output_type": "stream",
     "text": [
      "            #  Population (2022)  Yearly change  Net change  Density (P/Km²)  \\\n",
      "211  0.901709           0.000033       0.451664    0.027488         0.001329   \n",
      "20   0.085470           0.047165       0.475436    0.052946         0.010669   \n",
      "149  0.636752           0.001367       0.779715    0.030845         0.002658   \n",
      "107  0.457265           0.004773       0.610143    0.034192         0.000152   \n",
      "133  0.568376           0.002413       0.446910    0.028334         0.000759   \n",
      "..        ...                ...            ...         ...              ...   \n",
      "125  0.534188           0.003350       0.521395    0.030279         0.000683   \n",
      "42   0.179487           0.022907       0.616482    0.060502         0.000987   \n",
      "225  0.961538           0.000007       0.123613    0.027461         0.003038   \n",
      "127  0.542735           0.002997       0.646593    0.032366         0.002202   \n",
      "93   0.397436           0.006711       0.351823    0.025734         0.004063   \n",
      "\n",
      "     Land Area (Km²)  Migrants (net)  Fert. Rate   Med.Age  Urban Pop %  \\\n",
      "211         0.000085        0.406232    0.152542  0.473391         0.43   \n",
      "20          0.014773        0.568326    0.050847  0.757576         0.83   \n",
      "149         0.001717        0.405365    0.033898  0.121212         0.45   \n",
      "107         0.107441        0.404992    0.084746  0.424242         0.78   \n",
      "133         0.010687        0.404370    0.220339  0.636364         0.96   \n",
      "..               ...             ...         ...       ...          ...   \n",
      "125         0.016078        0.415490    0.186441  0.696970         0.87   \n",
      "42          0.078159        0.467843    0.269837  0.484848         0.79   \n",
      "225         0.000009        0.406232    0.220339  0.473391         0.00   \n",
      "127         0.004539        0.413200    0.067797  0.454545         0.68   \n",
      "93          0.005528        0.409967    0.050847  0.848485         0.72   \n",
      "\n",
      "     World Share  \n",
      "211     0.000000  \n",
      "20      0.047103  \n",
      "149     0.001624  \n",
      "107     0.004873  \n",
      "133     0.002166  \n",
      "..           ...  \n",
      "125     0.003249  \n",
      "42      0.022740  \n",
      "225     0.000000  \n",
      "127     0.003249  \n",
      "93      0.006497  \n",
      "\n",
      "[164 rows x 11 columns]\n"
     ]
    }
   ],
   "source": [
    "x_train, x_test, y_train, y_test = train_test_split(x,y,test_size=0.3,random_state=3)\n",
    "print(x_train)"
   ]
  },
  {
   "cell_type": "markdown",
   "id": "a04d1ec9",
   "metadata": {},
   "source": [
    "### Random Forest Score"
   ]
  },
  {
   "cell_type": "code",
   "execution_count": 69,
   "id": "a85df492",
   "metadata": {},
   "outputs": [
    {
     "name": "stdout",
     "output_type": "stream",
     "text": [
      "0.9577464788732394\n"
     ]
    }
   ],
   "source": [
    "rfc = RandomForestClassifier()\n",
    "rfc.fit(x_train,y_train)\n",
    "print(rfc.score(x_test,y_test))"
   ]
  },
  {
   "cell_type": "markdown",
   "id": "e20d5f42",
   "metadata": {},
   "source": [
    "# Creating Confusion Matrix"
   ]
  },
  {
   "cell_type": "code",
   "execution_count": 70,
   "id": "f25f8961",
   "metadata": {},
   "outputs": [
    {
     "name": "stdout",
     "output_type": "stream",
     "text": [
      "[[52  0]\n",
      " [ 3 16]]\n"
     ]
    }
   ],
   "source": [
    "y_pred=rfc.predict(x_test)\n",
    "y_true=y_test\n",
    "\n",
    "cm=confusion_matrix(y_true,y_pred)\n",
    "print(cm)"
   ]
  },
  {
   "cell_type": "markdown",
   "id": "e6403f1b",
   "metadata": {},
   "source": [
    "# Visualising Confusion Matrix"
   ]
  },
  {
   "cell_type": "code",
   "execution_count": 71,
   "id": "68e3d85f",
   "metadata": {},
   "outputs": [
    {
     "data": {
      "image/png": "[encoded data removed]",
      "text/plain": [
       "<Figure size 360x360 with 2 Axes>"
      ]
     },
     "metadata": {
      "needs_background": "light"
     },
     "output_type": "display_data"
    }
   ],
   "source": [
    "figure, ax = plt.subplots(figsize=(5,5))\n",
    "sns.heatmap(cm, annot=True, linewidths=0.5, linecolor=\"red\", fmt=\".0f\", ax=ax)\n",
    "plt.title(\"Confusion Matrix of First Country\")\n",
    "plt.xlabel(\"Real First Class Country\")\n",
    "plt.ylabel(\"Predict First Class Country\")\n",
    "plt.show()\n",
    "plt.close()"
   ]
  },
  {
   "cell_type": "markdown",
   "id": "503d9606",
   "metadata": {},
   "source": [
    "# Calculation of precision, recall, f1_score and accuracy"
   ]
  },
  {
   "cell_type": "code",
   "execution_count": 72,
   "id": "0c31c3b7",
   "metadata": {},
   "outputs": [
    {
     "name": "stdout",
     "output_type": "stream",
     "text": [
      "Precision: 0.9454545454545454\n",
      "Recall: 1.0\n",
      "F1 Score: 0.9719626168224299\n",
      "Accuracy: 0.9577464788732394\n"
     ]
    }
   ],
   "source": [
    "tp = cm[0,0]\n",
    "fp = cm[1,0]\n",
    "fn = cm[0,1]\n",
    "tn = cm[1,1]\n",
    "\n",
    "precision = tp / (tp+fp)\n",
    "recall = tp / (tp+fn)\n",
    "f1_score = 2 *(precision * recall)/(precision + recall)\n",
    "accuracy = (tp + tn)/(tp + tn + fp + fn)\n",
    "\n",
    "print(\"Precision: {}\\nRecall: {}\\nF1 Score: {}\\nAccuracy: {}\".format(precision, recall, f1_score, accuracy))"
   ]
  },
  {
   "cell_type": "markdown",
   "id": "6c07d80a",
   "metadata": {},
   "source": [
    "# 3.Araştırma Sonuçları ve Tartışma\n",
    "\tBu çalışmada dünya popülasyonu verisi kullanılarak K-En Yakın Komşu, Linear Regresyon sınıflandırıcılarının performansları değerlendirilmiş ve 1.Dünya ülkeleri tahmin ettirilmiştir. Bu sonuca giderken dağılım grafiği üzerinde en uygun veri türleri arasında karşılaştırma yapılırken doğurganlık oranı ve medyan yaş arasındaki bağıntı incelenmiş y = e^x bağıntısı gözlemlenmiş, kentsel popülasyon ve doğurganlık oranı arasındaki ilişki incelenirken, kentselde yaşayan kesimin doğruganlık oranının daha düşük olduğu fakat, kırsal kesimde yaşayan insanların doğurganlık oranının daha yüksek gözlemlenmiş ve bu ilişki eğitim seviyesi farkı ile yorumlanmıştır. Pasta grafiklerinde ise yoğunluğu (popülasyon/ülke yüzey km2), ülke popülasyonu ve dünya üzerindeki payı en çok olan ilk 10 ülke incelenirken ortaya Çin’in en çok populasyona ve yüzey alanına sahip olduğu fakat km2 başına düşen insan sayısının diğer çoğu ülkeye kıyasla düşük olduğunu göstermiştir. Bu da ülkelerin gelişmiş olup olmadığını popülasyondan bulmaya çalışmanın yanlış olduğunu, bunun yerine doğum oranı ve yüzey alanına düşen kişi sayısı gibi verilerden sağlamanın daha sağlıklı olduğunu kanıtlar niteliktedir."
   ]
  },
  {
   "cell_type": "markdown",
   "id": "93f0e297",
   "metadata": {},
   "source": [
    "# 4.Sonuç\n",
    "    Çalışmanın sonucunda değerlendirme ölçütlerine göre en başarılı sınıflandırıcının %93 oranına sahip olduğu görülmüştür. 1.Dünya Ülkelerinin %93 oranında doğru tahmin edildiği gözlemlenmiştir. Bu sonuç daha önce belirlemiş olduğumuz ülkelerin; nüfuslarının dağılımı, doğum oranı, göç, nüfus yoğunluğu, ortanca yaş gibi özelliklerle gelişmiş olup olmadığını tahmin edebilme hedefimizin başarılı bir şekilde sonuçlandığını kanıtlar niteliktedir. "
   ]
  },
  {
   "cell_type": "markdown",
   "id": "5ffce1fe",
   "metadata": {},
   "source": [
    "Bu çalışmada kullanınlan dataset'e ulaşmak için:\n",
    "https://www.kaggle.com/datasets/anandhuh/countries-in-the-world-by-population-2022"
   ]
  }
 ],
 "metadata": {
  "kernelspec": {
   "display_name": "Python 3 (ipykernel)",
   "language": "python",
   "name": "python3"
  },
  "language_info": {
   "codemirror_mode": {
    "name": "ipython",
    "version": 3
   },
   "file_extension": ".py",
   "mimetype": "text/x-python",
   "name": "python",
   "nbconvert_exporter": "python",
   "pygments_lexer": "ipython3",
   "version": "3.8.8"
  }
 },
 "nbformat": 4,
 "nbformat_minor": 5
}
